{
 "cells": [
  {
   "cell_type": "markdown",
   "id": "b20b14c0",
   "metadata": {},
   "source": [
    "# Практическая работа по курсу \"Введение в численные методы\"\n",
    "### Выполнил: Иванов Роман"
   ]
  },
  {
   "cell_type": "markdown",
   "id": "d843a184",
   "metadata": {},
   "source": [
    "### Постановка задачи:\n",
    "Найти решение задачи Коши\n",
    "![title](picture1.png) \n",
    "методом Адамса второго порядка. Функция f(t) задана и может быть найдена как в точках сетки  \n",
    "x = ih, i = 0,1, ... , N, h = L/N, так и в любой точке отрезка [0, l]  \n",
    "а) Исследовать поведение решения на сгущающихся сетках (при увеличении n).  \n",
    "б) Выяснить, будет ли сходимость.  \n",
    "\n",
    "Вариант 4\n",
    "![title](picture11.png) "
   ]
  },
  {
   "cell_type": "markdown",
   "id": "6c41a347",
   "metadata": {},
   "source": [
    "### Метод Адамса:\n",
    "![title](picture5.png) \n",
    "![title](picture6.png) \n",
    "![title](picture7.png) \n",
    "![title](picture8.png) \n",
    "  \n",
    "Отметим следующую особенность рекуррентной формулы (93) Для расчета очередного  \n",
    "значения сеточной функции yi+1 нужно знать ее значения в двух предыдущих точках yi и yi-1.  \n",
    "Таким образом, формула (93) начинает работать только со второй точки. Вычислить по ней y1  \n",
    "нельзя. Это значение решения разностной задачи приходится вычислять каким-нибудь другим  \n",
    "методом, например, методом Рунге-Кутта.  "
   ]
  },
  {
   "cell_type": "markdown",
   "id": "3e1a4d3b",
   "metadata": {},
   "source": [
    "### Программная реализация на python 3.6:\n",
    "Рассмотрим вспомогательную функцию g(x) равную:\n",
    "![title](picture15.png)\n",
    "Исходная задача Коши сводится к нахождению функции g(x) с последующим решением задачи\n",
    "Коши: du/dx = g(x), u(0)=u0  \n",
    "Заметим, что dg/dx = e^(-(t-1)^2)  \n",
    "Тогда g(0), т.е. ![title](picture17.png) равняется 0  \n",
    "Для нахождения функции g(x) необходимо решить задачу Коши вида: dg/dx = e^(-(t-1)^2), g(0)=0  \n",
    "  \n",
    "Для этого задаём функцию:\n",
    "![title](picture18.png)\n",
    "Находим решение вспомогательной задачи Коши с помощью рекурентной формулы:\n",
    "![title](picture19.png)\n",
    "Находим решение исходной задачи Коши с помощью рекурентной формулы:\n",
    "![title](picture20.png)"
   ]
  },
  {
   "cell_type": "markdown",
   "id": "df3ea176",
   "metadata": {},
   "source": [
    "#### Инициализация параметров"
   ]
  },
  {
   "cell_type": "code",
   "execution_count": 1,
   "id": "1267bc66",
   "metadata": {},
   "outputs": [],
   "source": [
    "import math\n",
    "import matplotlib.pyplot as plt\n",
    "import pandas as pd\n",
    "\n",
    "N = 20\n",
    "a = 0\n",
    "b = 1\n",
    "U0 = 0"
   ]
  },
  {
   "cell_type": "markdown",
   "id": "1d791649",
   "metadata": {},
   "source": [
    "#### Реализация функции"
   ]
  },
  {
   "cell_type": "code",
   "execution_count": 2,
   "id": "2e25bfbe",
   "metadata": {},
   "outputs": [],
   "source": [
    "def func(t):\n",
    "    return math.exp(-(t-1)**2)"
   ]
  },
  {
   "cell_type": "markdown",
   "id": "328e2165",
   "metadata": {},
   "source": [
    "#### Создание таблицы значений функции"
   ]
  },
  {
   "cell_type": "code",
   "execution_count": 3,
   "id": "a98fa62d",
   "metadata": {},
   "outputs": [],
   "source": [
    "def table_of_values(a, b, N):\n",
    "    h = (b-a)/N\n",
    "    \n",
    "    mas_point = [[0] * 2 for i in range(N)]\n",
    "    \n",
    "    for i in range(N):\n",
    "        mas_point[i][0] = a + h*i\n",
    "        mas_point[i][1] = func(a + h*i)\n",
    "    \n",
    "    return mas_point"
   ]
  },
  {
   "cell_type": "code",
   "execution_count": 4,
   "id": "474df67c",
   "metadata": {},
   "outputs": [
    {
     "data": {
      "text/html": [
       "<div>\n",
       "<style scoped>\n",
       "    .dataframe tbody tr th:only-of-type {\n",
       "        vertical-align: middle;\n",
       "    }\n",
       "\n",
       "    .dataframe tbody tr th {\n",
       "        vertical-align: top;\n",
       "    }\n",
       "\n",
       "    .dataframe thead th {\n",
       "        text-align: right;\n",
       "    }\n",
       "</style>\n",
       "<table border=\"1\" class=\"dataframe\">\n",
       "  <thead>\n",
       "    <tr style=\"text-align: right;\">\n",
       "      <th></th>\n",
       "      <th>x</th>\n",
       "      <th>y</th>\n",
       "    </tr>\n",
       "  </thead>\n",
       "  <tbody>\n",
       "    <tr>\n",
       "      <th>0</th>\n",
       "      <td>0.00</td>\n",
       "      <td>0.367879</td>\n",
       "    </tr>\n",
       "    <tr>\n",
       "      <th>1</th>\n",
       "      <td>0.05</td>\n",
       "      <td>0.405555</td>\n",
       "    </tr>\n",
       "    <tr>\n",
       "      <th>2</th>\n",
       "      <td>0.10</td>\n",
       "      <td>0.444858</td>\n",
       "    </tr>\n",
       "    <tr>\n",
       "      <th>3</th>\n",
       "      <td>0.15</td>\n",
       "      <td>0.485537</td>\n",
       "    </tr>\n",
       "    <tr>\n",
       "      <th>4</th>\n",
       "      <td>0.20</td>\n",
       "      <td>0.527292</td>\n",
       "    </tr>\n",
       "    <tr>\n",
       "      <th>5</th>\n",
       "      <td>0.25</td>\n",
       "      <td>0.569783</td>\n",
       "    </tr>\n",
       "    <tr>\n",
       "      <th>6</th>\n",
       "      <td>0.30</td>\n",
       "      <td>0.612626</td>\n",
       "    </tr>\n",
       "    <tr>\n",
       "      <th>7</th>\n",
       "      <td>0.35</td>\n",
       "      <td>0.655406</td>\n",
       "    </tr>\n",
       "    <tr>\n",
       "      <th>8</th>\n",
       "      <td>0.40</td>\n",
       "      <td>0.697676</td>\n",
       "    </tr>\n",
       "    <tr>\n",
       "      <th>9</th>\n",
       "      <td>0.45</td>\n",
       "      <td>0.738968</td>\n",
       "    </tr>\n",
       "    <tr>\n",
       "      <th>10</th>\n",
       "      <td>0.50</td>\n",
       "      <td>0.778801</td>\n",
       "    </tr>\n",
       "    <tr>\n",
       "      <th>11</th>\n",
       "      <td>0.55</td>\n",
       "      <td>0.816686</td>\n",
       "    </tr>\n",
       "    <tr>\n",
       "      <th>12</th>\n",
       "      <td>0.60</td>\n",
       "      <td>0.852144</td>\n",
       "    </tr>\n",
       "    <tr>\n",
       "      <th>13</th>\n",
       "      <td>0.65</td>\n",
       "      <td>0.884706</td>\n",
       "    </tr>\n",
       "    <tr>\n",
       "      <th>14</th>\n",
       "      <td>0.70</td>\n",
       "      <td>0.913931</td>\n",
       "    </tr>\n",
       "    <tr>\n",
       "      <th>15</th>\n",
       "      <td>0.75</td>\n",
       "      <td>0.939413</td>\n",
       "    </tr>\n",
       "    <tr>\n",
       "      <th>16</th>\n",
       "      <td>0.80</td>\n",
       "      <td>0.960789</td>\n",
       "    </tr>\n",
       "    <tr>\n",
       "      <th>17</th>\n",
       "      <td>0.85</td>\n",
       "      <td>0.977751</td>\n",
       "    </tr>\n",
       "    <tr>\n",
       "      <th>18</th>\n",
       "      <td>0.90</td>\n",
       "      <td>0.990050</td>\n",
       "    </tr>\n",
       "    <tr>\n",
       "      <th>19</th>\n",
       "      <td>0.95</td>\n",
       "      <td>0.997503</td>\n",
       "    </tr>\n",
       "  </tbody>\n",
       "</table>\n",
       "</div>"
      ],
      "text/plain": [
       "       x         y\n",
       "0   0.00  0.367879\n",
       "1   0.05  0.405555\n",
       "2   0.10  0.444858\n",
       "3   0.15  0.485537\n",
       "4   0.20  0.527292\n",
       "5   0.25  0.569783\n",
       "6   0.30  0.612626\n",
       "7   0.35  0.655406\n",
       "8   0.40  0.697676\n",
       "9   0.45  0.738968\n",
       "10  0.50  0.778801\n",
       "11  0.55  0.816686\n",
       "12  0.60  0.852144\n",
       "13  0.65  0.884706\n",
       "14  0.70  0.913931\n",
       "15  0.75  0.939413\n",
       "16  0.80  0.960789\n",
       "17  0.85  0.977751\n",
       "18  0.90  0.990050\n",
       "19  0.95  0.997503"
      ]
     },
     "execution_count": 4,
     "metadata": {},
     "output_type": "execute_result"
    }
   ],
   "source": [
    "TableXY = table_of_values(a, b, N)\n",
    "pd.DataFrame(TableXY, columns=[\"x\", \"y\"])"
   ]
  },
  {
   "cell_type": "code",
   "execution_count": 5,
   "id": "fc4b5444",
   "metadata": {},
   "outputs": [
    {
     "data": {
      "image/png": "[encoded data removed]",
      "text/plain": [
       "<Figure size 432x288 with 1 Axes>"
      ]
     },
     "metadata": {
      "needs_background": "light"
     },
     "output_type": "display_data"
    }
   ],
   "source": [
    "x = [TableXY[i][0] for i in range(N)]\n",
    "y = [TableXY[i][1] for i in range(N)]\n",
    "\n",
    "plt.plot(x, y)\n",
    "plt.show()"
   ]
  },
  {
   "cell_type": "markdown",
   "id": "5000c53b",
   "metadata": {},
   "source": [
    "#### Реализация метода Рунге-Кутта для вычисления одной точки"
   ]
  },
  {
   "cell_type": "code",
   "execution_count": 6,
   "id": "4a939c0c",
   "metadata": {},
   "outputs": [],
   "source": [
    "def Runge1(mas, a, b, N, U0):\n",
    "    h = (b-a)/N\n",
    "    return U0 + h/2*(mas[0][1] + mas[1][1])"
   ]
  },
  {
   "cell_type": "markdown",
   "id": "7807afd9",
   "metadata": {},
   "source": [
    "#### Реализация метода Адамса"
   ]
  },
  {
   "cell_type": "code",
   "execution_count": 7,
   "id": "983e047f",
   "metadata": {},
   "outputs": [],
   "source": [
    "def Adams(mas, a, b, N, U0):\n",
    "    h = (b-a)/N\n",
    "    answer = [U0]\n",
    "    answer.append(Runge1(mas, a, b, N, U0))\n",
    "    \n",
    "    for i in range(N-2):\n",
    "        answer.append(answer[i+1] + h*(1.5*mas[i+1][1] - 0.5*mas[i][1]))\n",
    "                      \n",
    "    return answer"
   ]
  },
  {
   "cell_type": "code",
   "execution_count": 8,
   "id": "50624c1c",
   "metadata": {},
   "outputs": [
    {
     "data": {
      "text/html": [
       "<div>\n",
       "<style scoped>\n",
       "    .dataframe tbody tr th:only-of-type {\n",
       "        vertical-align: middle;\n",
       "    }\n",
       "\n",
       "    .dataframe tbody tr th {\n",
       "        vertical-align: top;\n",
       "    }\n",
       "\n",
       "    .dataframe thead th {\n",
       "        text-align: right;\n",
       "    }\n",
       "</style>\n",
       "<table border=\"1\" class=\"dataframe\">\n",
       "  <thead>\n",
       "    <tr style=\"text-align: right;\">\n",
       "      <th></th>\n",
       "      <th>x</th>\n",
       "      <th>y</th>\n",
       "    </tr>\n",
       "  </thead>\n",
       "  <tbody>\n",
       "    <tr>\n",
       "      <th>0</th>\n",
       "      <td>0.00</td>\n",
       "      <td>0.000000</td>\n",
       "    </tr>\n",
       "    <tr>\n",
       "      <th>1</th>\n",
       "      <td>0.05</td>\n",
       "      <td>0.000483</td>\n",
       "    </tr>\n",
       "    <tr>\n",
       "      <th>2</th>\n",
       "      <td>0.10</td>\n",
       "      <td>0.001934</td>\n",
       "    </tr>\n",
       "    <tr>\n",
       "      <th>3</th>\n",
       "      <td>0.15</td>\n",
       "      <td>0.004492</td>\n",
       "    </tr>\n",
       "    <tr>\n",
       "      <th>4</th>\n",
       "      <td>0.20</td>\n",
       "      <td>0.008262</td>\n",
       "    </tr>\n",
       "    <tr>\n",
       "      <th>5</th>\n",
       "      <td>0.25</td>\n",
       "      <td>0.013348</td>\n",
       "    </tr>\n",
       "    <tr>\n",
       "      <th>6</th>\n",
       "      <td>0.30</td>\n",
       "      <td>0.019857</td>\n",
       "    </tr>\n",
       "    <tr>\n",
       "      <th>7</th>\n",
       "      <td>0.35</td>\n",
       "      <td>0.027898</td>\n",
       "    </tr>\n",
       "    <tr>\n",
       "      <th>8</th>\n",
       "      <td>0.40</td>\n",
       "      <td>0.037577</td>\n",
       "    </tr>\n",
       "    <tr>\n",
       "      <th>9</th>\n",
       "      <td>0.45</td>\n",
       "      <td>0.049002</td>\n",
       "    </tr>\n",
       "    <tr>\n",
       "      <th>10</th>\n",
       "      <td>0.50</td>\n",
       "      <td>0.062276</td>\n",
       "    </tr>\n",
       "    <tr>\n",
       "      <th>11</th>\n",
       "      <td>0.55</td>\n",
       "      <td>0.077501</td>\n",
       "    </tr>\n",
       "    <tr>\n",
       "      <th>12</th>\n",
       "      <td>0.60</td>\n",
       "      <td>0.094771</td>\n",
       "    </tr>\n",
       "    <tr>\n",
       "      <th>13</th>\n",
       "      <td>0.65</td>\n",
       "      <td>0.114176</td>\n",
       "    </tr>\n",
       "    <tr>\n",
       "      <th>14</th>\n",
       "      <td>0.70</td>\n",
       "      <td>0.135799</td>\n",
       "    </tr>\n",
       "    <tr>\n",
       "      <th>15</th>\n",
       "      <td>0.75</td>\n",
       "      <td>0.159713</td>\n",
       "    </tr>\n",
       "    <tr>\n",
       "      <th>16</th>\n",
       "      <td>0.80</td>\n",
       "      <td>0.185983</td>\n",
       "    </tr>\n",
       "    <tr>\n",
       "      <th>17</th>\n",
       "      <td>0.85</td>\n",
       "      <td>0.214663</td>\n",
       "    </tr>\n",
       "    <tr>\n",
       "      <th>18</th>\n",
       "      <td>0.90</td>\n",
       "      <td>0.245795</td>\n",
       "    </tr>\n",
       "    <tr>\n",
       "      <th>19</th>\n",
       "      <td>0.95</td>\n",
       "      <td>0.279412</td>\n",
       "    </tr>\n",
       "  </tbody>\n",
       "</table>\n",
       "</div>"
      ],
      "text/plain": [
       "       x         y\n",
       "0   0.00  0.000000\n",
       "1   0.05  0.000483\n",
       "2   0.10  0.001934\n",
       "3   0.15  0.004492\n",
       "4   0.20  0.008262\n",
       "5   0.25  0.013348\n",
       "6   0.30  0.019857\n",
       "7   0.35  0.027898\n",
       "8   0.40  0.037577\n",
       "9   0.45  0.049002\n",
       "10  0.50  0.062276\n",
       "11  0.55  0.077501\n",
       "12  0.60  0.094771\n",
       "13  0.65  0.114176\n",
       "14  0.70  0.135799\n",
       "15  0.75  0.159713\n",
       "16  0.80  0.185983\n",
       "17  0.85  0.214663\n",
       "18  0.90  0.245795\n",
       "19  0.95  0.279412"
      ]
     },
     "execution_count": 8,
     "metadata": {},
     "output_type": "execute_result"
    }
   ],
   "source": [
    "y = Adams(TableXY, a, b, N, U0)\n",
    "\n",
    "for i in range(N):\n",
    "    TableXY[i][1] = y[i]\n",
    "\n",
    "y = Adams(TableXY, a, b, N, U0)\n",
    "\n",
    "for i in range(N):\n",
    "    TableXY[i][1] = y[i]\n",
    "\n",
    "pd.DataFrame(TableXY, columns=[\"x\", \"y\"])"
   ]
  },
  {
   "cell_type": "code",
   "execution_count": 9,
   "id": "ad45d10a",
   "metadata": {},
   "outputs": [
    {
     "data": {
      "image/png": "[encoded data removed]",
      "text/plain": [
       "<Figure size 432x288 with 1 Axes>"
      ]
     },
     "metadata": {
      "needs_background": "light"
     },
     "output_type": "display_data"
    }
   ],
   "source": [
    "plt.plot(x, y)\n",
    "plt.show()"
   ]
  },
  {
   "cell_type": "markdown",
   "id": "e822ec19",
   "metadata": {},
   "source": [
    "#### Аналитическое решение, полученное с помощью Wolfram Alpha\n",
    "![title](picture12.png) "
   ]
  },
  {
   "cell_type": "markdown",
   "id": "886527c3",
   "metadata": {},
   "source": [
    "### Исследование поведения решения на сгущающихся сетках"
   ]
  },
  {
   "cell_type": "markdown",
   "id": "bf038099",
   "metadata": {},
   "source": [
    "### N = 40"
   ]
  },
  {
   "cell_type": "code",
   "execution_count": 10,
   "id": "55218f4b",
   "metadata": {},
   "outputs": [
    {
     "data": {
      "text/plain": [
       "<matplotlib.collections.PathCollection at 0x2944fb95d30>"
      ]
     },
     "execution_count": 10,
     "metadata": {},
     "output_type": "execute_result"
    },
    {
     "data": {
      "image/png": "[encoded data removed]",
      "text/plain": [
       "<Figure size 432x288 with 1 Axes>"
      ]
     },
     "metadata": {
      "needs_background": "light"
     },
     "output_type": "display_data"
    }
   ],
   "source": [
    "N = 40\n",
    "\n",
    "TableXY = table_of_values(a, b, N)\n",
    "\n",
    "x = [TableXY[i][0] for i in range(N)]\n",
    "y = Adams(TableXY, a, b, N, U0)\n",
    "\n",
    "for i in range(N):\n",
    "    TableXY[i][1] = y[i]\n",
    "\n",
    "y = Adams(TableXY, a, b, N, U0)\n",
    "\n",
    "for i in range(N):\n",
    "    TableXY[i][1] = y[i]\n",
    "\n",
    "plt.scatter(x, y)"
   ]
  },
  {
   "cell_type": "markdown",
   "id": "31d5562e",
   "metadata": {},
   "source": [
    "### N = 80"
   ]
  },
  {
   "cell_type": "code",
   "execution_count": 11,
   "id": "cfb1cff8",
   "metadata": {},
   "outputs": [
    {
     "data": {
      "text/plain": [
       "<matplotlib.collections.PathCollection at 0x2944fc29f40>"
      ]
     },
     "execution_count": 11,
     "metadata": {},
     "output_type": "execute_result"
    },
    {
     "data": {
      "image/png": "[encoded data removed]",
      "text/plain": [
       "<Figure size 432x288 with 1 Axes>"
      ]
     },
     "metadata": {
      "needs_background": "light"
     },
     "output_type": "display_data"
    }
   ],
   "source": [
    "N = 80\n",
    "\n",
    "TableXY = table_of_values(a, b, N)\n",
    "\n",
    "x = [TableXY[i][0] for i in range(N)]\n",
    "y = Adams(TableXY, a, b, N, U0)\n",
    "\n",
    "for i in range(N):\n",
    "    TableXY[i][1] = y[i]\n",
    "\n",
    "y = Adams(TableXY, a, b, N, U0)\n",
    "\n",
    "for i in range(N):\n",
    "    TableXY[i][1] = y[i]\n",
    "\n",
    "plt.scatter(x, y)"
   ]
  },
  {
   "cell_type": "markdown",
   "id": "59e9d91b",
   "metadata": {},
   "source": [
    "### N = 160"
   ]
  },
  {
   "cell_type": "code",
   "execution_count": 12,
   "id": "892efa7d",
   "metadata": {},
   "outputs": [
    {
     "data": {
      "text/plain": [
       "<matplotlib.collections.PathCollection at 0x2944fc8abe0>"
      ]
     },
     "execution_count": 12,
     "metadata": {},
     "output_type": "execute_result"
    },
    {
     "data": {
      "image/png": "[encoded data removed]",
      "text/plain": [
       "<Figure size 432x288 with 1 Axes>"
      ]
     },
     "metadata": {
      "needs_background": "light"
     },
     "output_type": "display_data"
    }
   ],
   "source": [
    "N = 160\n",
    "\n",
    "TableXY = table_of_values(a, b, N)\n",
    "\n",
    "x = [TableXY[i][0] for i in range(N)]\n",
    "y = Adams(TableXY, a, b, N, U0)\n",
    "\n",
    "for i in range(N):\n",
    "    TableXY[i][1] = y[i]\n",
    "\n",
    "y = Adams(TableXY, a, b, N, U0)\n",
    "\n",
    "for i in range(N):\n",
    "    TableXY[i][1] = y[i]\n",
    "\n",
    "plt.scatter(x, y)"
   ]
  },
  {
   "cell_type": "markdown",
   "id": "fa90a7e9",
   "metadata": {},
   "source": [
    "### Вывод\n",
    "#### 1) При увеличении числа точек, точность растет\n",
    "#### 1) Сходимость есть"
   ]
  }
 ],
 "metadata": {
  "kernelspec": {
   "display_name": "Python 3",
   "language": "python",
   "name": "python3"
  },
  "language_info": {
   "codemirror_mode": {
    "name": "ipython",
    "version": 3
   },
   "file_extension": ".py",
   "mimetype": "text/x-python",
   "name": "python",
   "nbconvert_exporter": "python",
   "pygments_lexer": "ipython3",
   "version": "3.8.8"
  }
 },
 "nbformat": 4,
 "nbformat_minor": 5
}
